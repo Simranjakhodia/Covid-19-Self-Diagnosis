{
 "cells": [
  {
   "cell_type": "code",
   "execution_count": 52,
   "metadata": {},
   "outputs": [],
   "source": [
    "from pandas import read_csv\n",
    "from pandas.plotting import scatter_matrix\n",
    "from matplotlib import pyplot\n",
    "from sklearn.model_selection import train_test_split\n",
    "from sklearn.model_selection import cross_val_score\n",
    "from sklearn.model_selection import StratifiedKFold\n",
    "from sklearn.metrics import classification_report\n",
    "from sklearn.metrics import confusion_matrix\n",
    "from sklearn.metrics import accuracy_score\n",
    "from sklearn.linear_model import LogisticRegression\n",
    "from sklearn.tree import DecisionTreeClassifier\n",
    "from sklearn.neighbors import KNeighborsClassifier\n",
    "from sklearn.discriminant_analysis import LinearDiscriminantAnalysis\n",
    "from sklearn.naive_bayes import GaussianNB\n",
    "from sklearn.svm import SVC\n",
    "import pandas as pd\n",
    "import numpy as np"
   ]
  },
  {
   "cell_type": "code",
   "execution_count": 53,
   "metadata": {},
   "outputs": [],
   "source": [
    "data = read_csv('C:/Users/Simran Jakhodia/Desktop/Covid19SymptomPredictor/Cleaned-Data.csv')"
   ]
  },
  {
   "cell_type": "code",
   "execution_count": 54,
   "metadata": {},
   "outputs": [
    {
     "name": "stdout",
     "output_type": "stream",
     "text": [
      "        Fever  Tiredness  Dry-Cough  Difficulty-in-Breathing  Sore-Throat  \\\n",
      "0           1          1          1                        1            1   \n",
      "1           1          1          1                        1            1   \n",
      "2           1          1          1                        1            1   \n",
      "3           1          1          1                        1            1   \n",
      "4           1          1          1                        1            1   \n",
      "...       ...        ...        ...                      ...          ...   \n",
      "316795      0          0          0                        0            0   \n",
      "316796      0          0          0                        0            0   \n",
      "316797      0          0          0                        0            0   \n",
      "316798      0          0          0                        0            0   \n",
      "316799      0          0          0                        0            0   \n",
      "\n",
      "        None_Sympton  Pains  Nasal-Congestion  Runny-Nose  Diarrhea  ...  \\\n",
      "0                  0      1                 1           1         1  ...   \n",
      "1                  0      1                 1           1         1  ...   \n",
      "2                  0      1                 1           1         1  ...   \n",
      "3                  0      1                 1           1         1  ...   \n",
      "4                  0      1                 1           1         1  ...   \n",
      "...              ...    ...               ...         ...       ...  ...   \n",
      "316795             1      0                 0           0         0  ...   \n",
      "316796             1      0                 0           0         0  ...   \n",
      "316797             1      0                 0           0         0  ...   \n",
      "316798             1      0                 0           0         0  ...   \n",
      "316799             1      0                 0           0         0  ...   \n",
      "\n",
      "        Gender_Male  Gender_Transgender  Severity_Mild  Severity_Moderate  \\\n",
      "0                 1                   0              1                  0   \n",
      "1                 1                   0              1                  0   \n",
      "2                 1                   0              1                  0   \n",
      "3                 1                   0              0                  1   \n",
      "4                 1                   0              0                  1   \n",
      "...             ...                 ...            ...                ...   \n",
      "316795            0                   1              0                  0   \n",
      "316796            0                   1              0                  0   \n",
      "316797            0                   1              0                  0   \n",
      "316798            0                   1              0                  0   \n",
      "316799            0                   1              0                  0   \n",
      "\n",
      "        Severity_None  Severity_Severe  Contact_Dont-Know  Contact_No  \\\n",
      "0                   0                0                  0           0   \n",
      "1                   0                0                  0           1   \n",
      "2                   0                0                  1           0   \n",
      "3                   0                0                  0           0   \n",
      "4                   0                0                  0           1   \n",
      "...               ...              ...                ...         ...   \n",
      "316795              0                1                  0           1   \n",
      "316796              0                1                  1           0   \n",
      "316797              1                0                  0           0   \n",
      "316798              1                0                  0           1   \n",
      "316799              1                0                  1           0   \n",
      "\n",
      "        Contact_Yes  Country  \n",
      "0                 1    China  \n",
      "1                 0    China  \n",
      "2                 0    China  \n",
      "3                 1    China  \n",
      "4                 0    China  \n",
      "...             ...      ...  \n",
      "316795            0    Other  \n",
      "316796            0    Other  \n",
      "316797            1    Other  \n",
      "316798            0    Other  \n",
      "316799            0    Other  \n",
      "\n",
      "[316800 rows x 27 columns]\n"
     ]
    }
   ],
   "source": [
    "print(data)"
   ]
  },
  {
   "cell_type": "code",
   "execution_count": 55,
   "metadata": {},
   "outputs": [
    {
     "name": "stdout",
     "output_type": "stream",
     "text": [
      "(316800, 27)\n"
     ]
    }
   ],
   "source": [
    "print(data.shape)"
   ]
  },
  {
   "cell_type": "code",
   "execution_count": 56,
   "metadata": {},
   "outputs": [
    {
     "name": "stdout",
     "output_type": "stream",
     "text": [
      "8553600\n"
     ]
    }
   ],
   "source": [
    "print(data.size)"
   ]
  },
  {
   "cell_type": "code",
   "execution_count": 57,
   "metadata": {},
   "outputs": [
    {
     "name": "stdout",
     "output_type": "stream",
     "text": [
      "   Fever  Tiredness  Dry-Cough  Difficulty-in-Breathing  Sore-Throat  \\\n",
      "0      1          1          1                        1            1   \n",
      "1      1          1          1                        1            1   \n",
      "2      1          1          1                        1            1   \n",
      "3      1          1          1                        1            1   \n",
      "4      1          1          1                        1            1   \n",
      "\n",
      "   None_Sympton  Pains  Nasal-Congestion  Runny-Nose  Diarrhea  ...  \\\n",
      "0             0      1                 1           1         1  ...   \n",
      "1             0      1                 1           1         1  ...   \n",
      "2             0      1                 1           1         1  ...   \n",
      "3             0      1                 1           1         1  ...   \n",
      "4             0      1                 1           1         1  ...   \n",
      "\n",
      "   Gender_Male  Gender_Transgender  Severity_Mild  Severity_Moderate  \\\n",
      "0            1                   0              1                  0   \n",
      "1            1                   0              1                  0   \n",
      "2            1                   0              1                  0   \n",
      "3            1                   0              0                  1   \n",
      "4            1                   0              0                  1   \n",
      "\n",
      "   Severity_None  Severity_Severe  Contact_Dont-Know  Contact_No  Contact_Yes  \\\n",
      "0              0                0                  0           0            1   \n",
      "1              0                0                  0           1            0   \n",
      "2              0                0                  1           0            0   \n",
      "3              0                0                  0           0            1   \n",
      "4              0                0                  0           1            0   \n",
      "\n",
      "   Country  \n",
      "0    China  \n",
      "1    China  \n",
      "2    China  \n",
      "3    China  \n",
      "4    China  \n",
      "\n",
      "[5 rows x 27 columns]\n"
     ]
    }
   ],
   "source": [
    "print(data.head(5))"
   ]
  },
  {
   "cell_type": "code",
   "execution_count": 58,
   "metadata": {},
   "outputs": [],
   "source": [
    "data = data.iloc[: , :-1]"
   ]
  },
  {
   "cell_type": "code",
   "execution_count": 59,
   "metadata": {},
   "outputs": [
    {
     "name": "stdout",
     "output_type": "stream",
     "text": [
      "   Fever  Tiredness  Dry-Cough  Difficulty-in-Breathing  Sore-Throat  \\\n",
      "0      1          1          1                        1            1   \n",
      "1      1          1          1                        1            1   \n",
      "2      1          1          1                        1            1   \n",
      "3      1          1          1                        1            1   \n",
      "4      1          1          1                        1            1   \n",
      "\n",
      "   None_Sympton  Pains  Nasal-Congestion  Runny-Nose  Diarrhea  ...  \\\n",
      "0             0      1                 1           1         1  ...   \n",
      "1             0      1                 1           1         1  ...   \n",
      "2             0      1                 1           1         1  ...   \n",
      "3             0      1                 1           1         1  ...   \n",
      "4             0      1                 1           1         1  ...   \n",
      "\n",
      "   Gender_Female  Gender_Male  Gender_Transgender  Severity_Mild  \\\n",
      "0              0            1                   0              1   \n",
      "1              0            1                   0              1   \n",
      "2              0            1                   0              1   \n",
      "3              0            1                   0              0   \n",
      "4              0            1                   0              0   \n",
      "\n",
      "   Severity_Moderate  Severity_None  Severity_Severe  Contact_Dont-Know  \\\n",
      "0                  0              0                0                  0   \n",
      "1                  0              0                0                  0   \n",
      "2                  0              0                0                  1   \n",
      "3                  1              0                0                  0   \n",
      "4                  1              0                0                  0   \n",
      "\n",
      "   Contact_No  Contact_Yes  \n",
      "0           0            1  \n",
      "1           1            0  \n",
      "2           0            0  \n",
      "3           0            1  \n",
      "4           1            0  \n",
      "\n",
      "[5 rows x 26 columns]\n"
     ]
    }
   ],
   "source": [
    "print(data.head(5))"
   ]
  },
  {
   "cell_type": "code",
   "execution_count": 60,
   "metadata": {},
   "outputs": [
    {
     "name": "stdout",
     "output_type": "stream",
     "text": [
      "Severity_Severe\n",
      "0    237600\n",
      "1     79200\n",
      "dtype: int64\n"
     ]
    }
   ],
   "source": [
    "print(data.groupby('Severity_Severe').size())"
   ]
  },
  {
   "cell_type": "code",
   "execution_count": 61,
   "metadata": {},
   "outputs": [
    {
     "name": "stdout",
     "output_type": "stream",
     "text": [
      "19 20 21 22\n"
     ]
    }
   ],
   "source": [
    "index_no1 = data.columns.get_loc('Severity_Mild')  #TO GET COLUMN INDEX \n",
    "index_no2 = data.columns.get_loc('Severity_Moderate')\n",
    "index_no3 = data.columns.get_loc('Severity_None')\n",
    "index_no4 = data.columns.get_loc('Severity_Severe')\n",
    "print(index_no1,index_no2,index_no3,index_no4)"
   ]
  },
  {
   "cell_type": "code",
   "execution_count": 62,
   "metadata": {},
   "outputs": [
    {
     "name": "stdout",
     "output_type": "stream",
     "text": [
      "0\n"
     ]
    }
   ],
   "source": [
    "print(data.iloc[0][20]) #to get value of cell from pandas dataframe"
   ]
  },
  {
   "cell_type": "code",
   "execution_count": 63,
   "metadata": {},
   "outputs": [],
   "source": [
    "#data=data.loc[[0:30,13500:13580,27924:27970,56763:56800,185878:185920,283461:283500,316770:316790]]"
   ]
  },
  {
   "cell_type": "code",
   "execution_count": 64,
   "metadata": {},
   "outputs": [],
   "source": [
    "#data = data.drop(columns=data.columns[5:7])"
   ]
  },
  {
   "cell_type": "code",
   "execution_count": 65,
   "metadata": {},
   "outputs": [],
   "source": [
    "#data.size"
   ]
  },
  {
   "cell_type": "code",
   "execution_count": 66,
   "metadata": {},
   "outputs": [
    {
     "name": "stdout",
     "output_type": "stream",
     "text": [
      "        Fever  Tiredness  Dry-Cough  Difficulty-in-Breathing  Sore-Throat  \\\n",
      "0           1          1          1                        1            1   \n",
      "1           1          1          1                        1            1   \n",
      "2           1          1          1                        1            1   \n",
      "3           1          1          1                        1            1   \n",
      "4           1          1          1                        1            1   \n",
      "...       ...        ...        ...                      ...          ...   \n",
      "316795      0          0          0                        0            0   \n",
      "316796      0          0          0                        0            0   \n",
      "316797      0          0          0                        0            0   \n",
      "316798      0          0          0                        0            0   \n",
      "316799      0          0          0                        0            0   \n",
      "\n",
      "        None_Sympton  Pains  Nasal-Congestion  Runny-Nose  Diarrhea  ...  \\\n",
      "0                  0      1                 1           1         1  ...   \n",
      "1                  0      1                 1           1         1  ...   \n",
      "2                  0      1                 1           1         1  ...   \n",
      "3                  0      1                 1           1         1  ...   \n",
      "4                  0      1                 1           1         1  ...   \n",
      "...              ...    ...               ...         ...       ...  ...   \n",
      "316795             1      0                 0           0         0  ...   \n",
      "316796             1      0                 0           0         0  ...   \n",
      "316797             1      0                 0           0         0  ...   \n",
      "316798             1      0                 0           0         0  ...   \n",
      "316799             1      0                 0           0         0  ...   \n",
      "\n",
      "        Gender_Female  Gender_Male  Gender_Transgender  Severity_Mild  \\\n",
      "0                   0            1                   0              1   \n",
      "1                   0            1                   0              1   \n",
      "2                   0            1                   0              1   \n",
      "3                   0            1                   0              0   \n",
      "4                   0            1                   0              0   \n",
      "...               ...          ...                 ...            ...   \n",
      "316795              0            0                   1              0   \n",
      "316796              0            0                   1              0   \n",
      "316797              0            0                   1              0   \n",
      "316798              0            0                   1              0   \n",
      "316799              0            0                   1              0   \n",
      "\n",
      "        Severity_Moderate  Severity_None  Severity_Severe  Contact_Dont-Know  \\\n",
      "0                       0              0                0                  0   \n",
      "1                       0              0                0                  0   \n",
      "2                       0              0                0                  1   \n",
      "3                       1              0                0                  0   \n",
      "4                       1              0                0                  0   \n",
      "...                   ...            ...              ...                ...   \n",
      "316795                  0              0                1                  0   \n",
      "316796                  0              0                1                  1   \n",
      "316797                  0              1                0                  0   \n",
      "316798                  0              1                0                  0   \n",
      "316799                  0              1                0                  1   \n",
      "\n",
      "        Contact_No  Contact_Yes  \n",
      "0                0            1  \n",
      "1                1            0  \n",
      "2                0            0  \n",
      "3                0            1  \n",
      "4                1            0  \n",
      "...            ...          ...  \n",
      "316795           1            0  \n",
      "316796           0            0  \n",
      "316797           0            1  \n",
      "316798           1            0  \n",
      "316799           0            0  \n",
      "\n",
      "[316800 rows x 26 columns]\n"
     ]
    }
   ],
   "source": [
    "print(data)"
   ]
  },
  {
   "cell_type": "code",
   "execution_count": 67,
   "metadata": {},
   "outputs": [],
   "source": [
    "symptom = []\n",
    "\n",
    "for i, row in data.iterrows():\n",
    "    l = [data.iloc[i][19],data.iloc[i][20] ,data.iloc[i][21] ,data.iloc[i][22]];\n",
    "    indexresult = l.index(max(l)) + 19 \n",
    "    if indexresult == 19:\n",
    "        symptom.append('Mild Severity')\n",
    "                  \n",
    "    if indexresult == 20:\n",
    "        symptom.append('Moderate Severity') \n",
    "                  \n",
    "    if indexresult == 21:\n",
    "        symptom.append('No Severity') \n",
    "                  \n",
    "    if indexresult == 22:\n",
    "        symptom.append('Strong Severity') \n",
    "       \n",
    "                       \n",
    "\n",
    "    \n",
    "data['Severity Index'] = symptom  \n"
   ]
  },
  {
   "cell_type": "code",
   "execution_count": 68,
   "metadata": {},
   "outputs": [
    {
     "name": "stdout",
     "output_type": "stream",
     "text": [
      "   Fever  Tiredness  Dry-Cough  Difficulty-in-Breathing  Sore-Throat  \\\n",
      "0      1          1          1                        1            1   \n",
      "1      1          1          1                        1            1   \n",
      "2      1          1          1                        1            1   \n",
      "3      1          1          1                        1            1   \n",
      "4      1          1          1                        1            1   \n",
      "\n",
      "   None_Sympton  Pains  Nasal-Congestion  Runny-Nose  Diarrhea  ...  \\\n",
      "0             0      1                 1           1         1  ...   \n",
      "1             0      1                 1           1         1  ...   \n",
      "2             0      1                 1           1         1  ...   \n",
      "3             0      1                 1           1         1  ...   \n",
      "4             0      1                 1           1         1  ...   \n",
      "\n",
      "   Gender_Male  Gender_Transgender  Severity_Mild  Severity_Moderate  \\\n",
      "0            1                   0              1                  0   \n",
      "1            1                   0              1                  0   \n",
      "2            1                   0              1                  0   \n",
      "3            1                   0              0                  1   \n",
      "4            1                   0              0                  1   \n",
      "\n",
      "   Severity_None  Severity_Severe  Contact_Dont-Know  Contact_No  Contact_Yes  \\\n",
      "0              0                0                  0           0            1   \n",
      "1              0                0                  0           1            0   \n",
      "2              0                0                  1           0            0   \n",
      "3              0                0                  0           0            1   \n",
      "4              0                0                  0           1            0   \n",
      "\n",
      "      Severity Index  \n",
      "0      Mild Severity  \n",
      "1      Mild Severity  \n",
      "2      Mild Severity  \n",
      "3  Moderate Severity  \n",
      "4  Moderate Severity  \n",
      "\n",
      "[5 rows x 27 columns]\n"
     ]
    }
   ],
   "source": [
    "print(data.head(5))"
   ]
  },
  {
   "cell_type": "code",
   "execution_count": 69,
   "metadata": {},
   "outputs": [],
   "source": [
    "\n",
    "#data = data.drop(columns=data.columns[5:7])\n",
    "data = data.drop(columns=data.columns[19:23]) # To remove columns of index no. 19,20,21,22\n"
   ]
  },
  {
   "cell_type": "code",
   "execution_count": null,
   "metadata": {},
   "outputs": [],
   "source": []
  },
  {
   "cell_type": "code",
   "execution_count": 70,
   "metadata": {},
   "outputs": [
    {
     "name": "stdout",
     "output_type": "stream",
     "text": [
      "   Fever  Tiredness  Dry-Cough  Difficulty-in-Breathing  Sore-Throat  \\\n",
      "0      1          1          1                        1            1   \n",
      "1      1          1          1                        1            1   \n",
      "2      1          1          1                        1            1   \n",
      "3      1          1          1                        1            1   \n",
      "4      1          1          1                        1            1   \n",
      "\n",
      "   None_Sympton  Pains  Nasal-Congestion  Runny-Nose  Diarrhea  ...  \\\n",
      "0             0      1                 1           1         1  ...   \n",
      "1             0      1                 1           1         1  ...   \n",
      "2             0      1                 1           1         1  ...   \n",
      "3             0      1                 1           1         1  ...   \n",
      "4             0      1                 1           1         1  ...   \n",
      "\n",
      "   Age_20-24  Age_25-59  Age_60+  Gender_Female  Gender_Male  \\\n",
      "0          0          0        0              0            1   \n",
      "1          0          0        0              0            1   \n",
      "2          0          0        0              0            1   \n",
      "3          0          0        0              0            1   \n",
      "4          0          0        0              0            1   \n",
      "\n",
      "   Gender_Transgender  Contact_Dont-Know  Contact_No  Contact_Yes  \\\n",
      "0                   0                  0           0            1   \n",
      "1                   0                  0           1            0   \n",
      "2                   0                  1           0            0   \n",
      "3                   0                  0           0            1   \n",
      "4                   0                  0           1            0   \n",
      "\n",
      "      Severity Index  \n",
      "0      Mild Severity  \n",
      "1      Mild Severity  \n",
      "2      Mild Severity  \n",
      "3  Moderate Severity  \n",
      "4  Moderate Severity  \n",
      "\n",
      "[5 rows x 23 columns]\n"
     ]
    }
   ],
   "source": [
    "print(data.head(5))"
   ]
  },
  {
   "cell_type": "code",
   "execution_count": 71,
   "metadata": {},
   "outputs": [
    {
     "data": {
      "text/plain": [
       "(316800, 23)"
      ]
     },
     "execution_count": 71,
     "metadata": {},
     "output_type": "execute_result"
    }
   ],
   "source": [
    "data.shape"
   ]
  },
  {
   "cell_type": "code",
   "execution_count": 72,
   "metadata": {},
   "outputs": [],
   "source": [
    "#print(data.describe())       [Fever,Tiredness,Dry-Cough,Difficulty-in-Breathing,Sore-Throat,None_Sympton,Pains,Nasal-Congestion,Runny-Nose,Diarrhea,]"
   ]
  },
  {
   "cell_type": "code",
   "execution_count": 73,
   "metadata": {},
   "outputs": [
    {
     "name": "stdout",
     "output_type": "stream",
     "text": [
      "Severity Index\n",
      "Mild Severity        79200\n",
      "Moderate Severity    79200\n",
      "No Severity          79200\n",
      "Strong Severity      79200\n",
      "dtype: int64\n"
     ]
    }
   ],
   "source": [
    "print(data.groupby('Severity Index').size())"
   ]
  },
  {
   "cell_type": "code",
   "execution_count": null,
   "metadata": {},
   "outputs": [],
   "source": []
  },
  {
   "cell_type": "code",
   "execution_count": null,
   "metadata": {},
   "outputs": [],
   "source": []
  },
  {
   "cell_type": "code",
   "execution_count": 74,
   "metadata": {},
   "outputs": [],
   "source": [
    "array = data.values\n",
    "p=array[0:30,0:22]\n",
    "p1=array[13500:13580,0:22]  #20\n",
    "p2=array[27924:27970,0:22]\n",
    "p3=array[56763:56800,0:22]\n",
    "p4=array[185878:185920,0:22]\n",
    "p5=array[283461:283500,0:22]\n",
    "p6=array[316770:316790,0:22]\n",
    "X = np.vstack([p,p1])\n",
    "X = np.vstack([X,p2])\n",
    "X = np.vstack([X,p3])\n",
    "X = np.vstack([X,p4])\n",
    "X = np.vstack([X,p5])\n",
    "X = np.vstack([X,p6])\n",
    "y = np.append(array[0:30,22],array[13500:13580,22])\n",
    "y = np.append(y,array[27924:27970,22])\n",
    "y = np.append(y,array[56763:56800,22])\n",
    "y = np.append(y,array[185878:185920,22])\n",
    "y = np.append(y,array[283461:283500,22])\n",
    "y = np.append(y,array[316770:316790,22])\n",
    "\n",
    "#X_train, X_validation, Y_train, Y_validation = train_test_split(X, y, test_size=0.20, random_state=1)"
   ]
  },
  {
   "cell_type": "code",
   "execution_count": 75,
   "metadata": {},
   "outputs": [
    {
     "name": "stdout",
     "output_type": "stream",
     "text": [
      "[[1 1 1 ... 0 1 'Mild Severity']\n",
      " [1 1 1 ... 1 0 'Mild Severity']\n",
      " [1 1 1 ... 0 0 'Mild Severity']\n",
      " ...\n",
      " [0 0 0 ... 0 1 'No Severity']\n",
      " [0 0 0 ... 1 0 'No Severity']\n",
      " [0 0 0 ... 0 0 'No Severity']]\n",
      "22\n"
     ]
    }
   ],
   "source": [
    "print(array)\n",
    "print(X.shape[1])"
   ]
  },
  {
   "cell_type": "code",
   "execution_count": 87,
   "metadata": {},
   "outputs": [
    {
     "name": "stdout",
     "output_type": "stream",
     "text": [
      "['Mild Severity' 'Mild Severity' 'Mild Severity' ... 'No Severity'\n",
      " 'No Severity' 'No Severity']\n"
     ]
    }
   ],
   "source": [
    "print(array[:,22])"
   ]
  },
  {
   "cell_type": "code",
   "execution_count": 76,
   "metadata": {},
   "outputs": [
    {
     "name": "stdout",
     "output_type": "stream",
     "text": [
      "[[1 1 1 ... 0 0 1]\n",
      " [1 1 1 ... 0 1 0]\n",
      " [1 1 1 ... 1 0 0]\n",
      " ...\n",
      " [0 0 0 ... 1 0 0]\n",
      " [0 0 0 ... 0 0 1]\n",
      " [0 0 0 ... 0 1 0]]\n",
      "['Mild Severity' 'Mild Severity' 'Mild Severity' 'Moderate Severity'\n",
      " 'Moderate Severity' 'Moderate Severity' 'Strong Severity'\n",
      " 'Strong Severity' 'Strong Severity' 'No Severity' 'No Severity'\n",
      " 'No Severity' 'Mild Severity' 'Mild Severity' 'Mild Severity'\n",
      " 'Moderate Severity' 'Moderate Severity' 'Moderate Severity'\n",
      " 'Strong Severity' 'Strong Severity' 'Strong Severity' 'No Severity'\n",
      " 'No Severity' 'No Severity' 'Mild Severity' 'Mild Severity'\n",
      " 'Mild Severity' 'Moderate Severity' 'Moderate Severity'\n",
      " 'Moderate Severity' 'Mild Severity' 'Mild Severity' 'Mild Severity'\n",
      " 'Moderate Severity' 'Moderate Severity' 'Moderate Severity'\n",
      " 'Strong Severity' 'Strong Severity' 'Strong Severity' 'No Severity'\n",
      " 'No Severity' 'No Severity' 'Mild Severity' 'Mild Severity'\n",
      " 'Mild Severity' 'Moderate Severity' 'Moderate Severity'\n",
      " 'Moderate Severity' 'Strong Severity' 'Strong Severity' 'Strong Severity'\n",
      " 'No Severity' 'No Severity' 'No Severity' 'Mild Severity' 'Mild Severity'\n",
      " 'Mild Severity' 'Moderate Severity' 'Moderate Severity'\n",
      " 'Moderate Severity' 'Strong Severity' 'Strong Severity' 'Strong Severity'\n",
      " 'No Severity' 'No Severity' 'No Severity' 'Mild Severity' 'Mild Severity'\n",
      " 'Mild Severity' 'Moderate Severity' 'Moderate Severity'\n",
      " 'Moderate Severity' 'Strong Severity' 'Strong Severity' 'Strong Severity'\n",
      " 'No Severity' 'No Severity' 'No Severity' 'Mild Severity' 'Mild Severity'\n",
      " 'Mild Severity' 'Moderate Severity' 'Moderate Severity'\n",
      " 'Moderate Severity' 'Strong Severity' 'Strong Severity' 'Strong Severity'\n",
      " 'No Severity' 'No Severity' 'No Severity' 'Mild Severity' 'Mild Severity'\n",
      " 'Mild Severity' 'Moderate Severity' 'Moderate Severity'\n",
      " 'Moderate Severity' 'Strong Severity' 'Strong Severity' 'Strong Severity'\n",
      " 'No Severity' 'No Severity' 'No Severity' 'Mild Severity' 'Mild Severity'\n",
      " 'Mild Severity' 'Moderate Severity' 'Moderate Severity'\n",
      " 'Moderate Severity' 'Strong Severity' 'Strong Severity' 'Mild Severity'\n",
      " 'Mild Severity' 'Mild Severity' 'Moderate Severity' 'Moderate Severity'\n",
      " 'Moderate Severity' 'Strong Severity' 'Strong Severity' 'Strong Severity'\n",
      " 'No Severity' 'No Severity' 'No Severity' 'Mild Severity' 'Mild Severity'\n",
      " 'Mild Severity' 'Moderate Severity' 'Moderate Severity'\n",
      " 'Moderate Severity' 'Strong Severity' 'Strong Severity' 'Strong Severity'\n",
      " 'No Severity' 'No Severity' 'No Severity' 'Mild Severity' 'Mild Severity'\n",
      " 'Mild Severity' 'Moderate Severity' 'Moderate Severity'\n",
      " 'Moderate Severity' 'Strong Severity' 'Strong Severity' 'Strong Severity'\n",
      " 'No Severity' 'No Severity' 'No Severity' 'Mild Severity' 'Mild Severity'\n",
      " 'Mild Severity' 'Moderate Severity' 'Moderate Severity'\n",
      " 'Moderate Severity' 'Strong Severity' 'Strong Severity' 'Strong Severity'\n",
      " 'No Severity' 'Moderate Severity' 'Moderate Severity' 'Moderate Severity'\n",
      " 'Strong Severity' 'Strong Severity' 'Strong Severity' 'No Severity'\n",
      " 'No Severity' 'No Severity' 'Mild Severity' 'Mild Severity'\n",
      " 'Mild Severity' 'Moderate Severity' 'Moderate Severity'\n",
      " 'Moderate Severity' 'Strong Severity' 'Strong Severity' 'Strong Severity'\n",
      " 'No Severity' 'No Severity' 'No Severity' 'Mild Severity' 'Mild Severity'\n",
      " 'Mild Severity' 'Moderate Severity' 'Moderate Severity'\n",
      " 'Moderate Severity' 'Strong Severity' 'Strong Severity' 'Strong Severity'\n",
      " 'No Severity' 'No Severity' 'No Severity' 'Mild Severity' 'Mild Severity'\n",
      " 'Mild Severity' 'Moderate Severity' 'No Severity' 'No Severity'\n",
      " 'Mild Severity' 'Mild Severity' 'Mild Severity' 'Moderate Severity'\n",
      " 'Moderate Severity' 'Moderate Severity' 'Strong Severity'\n",
      " 'Strong Severity' 'Strong Severity' 'No Severity' 'No Severity'\n",
      " 'No Severity' 'Mild Severity' 'Mild Severity' 'Mild Severity'\n",
      " 'Moderate Severity' 'Moderate Severity' 'Moderate Severity'\n",
      " 'Strong Severity' 'Strong Severity' 'Strong Severity' 'No Severity'\n",
      " 'No Severity' 'No Severity' 'Mild Severity' 'Mild Severity'\n",
      " 'Mild Severity' 'Moderate Severity' 'Moderate Severity'\n",
      " 'Moderate Severity' 'Strong Severity' 'Strong Severity' 'Strong Severity'\n",
      " 'No Severity' 'No Severity' 'No Severity' 'Mild Severity' 'Mild Severity'\n",
      " 'Mild Severity' 'Moderate Severity' 'No Severity' 'No Severity'\n",
      " 'No Severity' 'Mild Severity' 'Mild Severity' 'Mild Severity'\n",
      " 'Moderate Severity' 'Moderate Severity' 'Moderate Severity'\n",
      " 'Strong Severity' 'Strong Severity' 'Strong Severity' 'No Severity'\n",
      " 'No Severity' 'No Severity' 'Mild Severity' 'Mild Severity'\n",
      " 'Mild Severity' 'Moderate Severity' 'Moderate Severity'\n",
      " 'Moderate Severity' 'Strong Severity' 'Strong Severity' 'Strong Severity'\n",
      " 'No Severity' 'No Severity' 'No Severity' 'Mild Severity' 'Mild Severity'\n",
      " 'Mild Severity' 'Moderate Severity' 'Moderate Severity'\n",
      " 'Moderate Severity' 'Strong Severity' 'Strong Severity' 'Strong Severity'\n",
      " 'No Severity' 'No Severity' 'No Severity' 'Strong Severity'\n",
      " 'Strong Severity' 'Strong Severity' 'No Severity' 'No Severity'\n",
      " 'No Severity' 'Mild Severity' 'Mild Severity' 'Mild Severity'\n",
      " 'Moderate Severity' 'Moderate Severity' 'Moderate Severity'\n",
      " 'Strong Severity' 'Strong Severity' 'Strong Severity' 'No Severity'\n",
      " 'No Severity' 'No Severity' 'Mild Severity' 'Mild Severity']\n",
      "(294, 22)\n",
      "(294,)\n"
     ]
    }
   ],
   "source": [
    "print(X)\n",
    "print(y)\n",
    "print(X.shape)\n",
    "print(y.shape)"
   ]
  },
  {
   "cell_type": "code",
   "execution_count": 77,
   "metadata": {},
   "outputs": [
    {
     "data": {
      "text/plain": [
       "\"\\n# Spot Check Algorithms\\nmodels = []\\nmodels.append(('LR', LogisticRegression(solver='liblinear', multi_class='ovr')))\\nmodels.append(('LDA', LinearDiscriminantAnalysis()))\\nmodels.append(('KNN', KNeighborsClassifier()))\\nmodels.append(('CART', DecisionTreeClassifier()))\\nmodels.append(('NB', GaussianNB()))\\nmodels.append(('SVM', SVC(gamma='auto')))\\n# evaluate each model in turn\\nresults = []\\nnames = []\\nfor name, model in models:\\n\\tkfold = StratifiedKFold(n_splits=10, random_state=1, shuffle=True)\\n\\tcv_results = cross_val_score(model, X_train, Y_train, cv=kfold, scoring='accuracy')\\n\\tresults.append(cv_results)\\n\\tnames.append(name)\\n\\tprint('%s: %f (%f)' % (name, cv_results.mean(), cv_results.std()))\\n\""
      ]
     },
     "execution_count": 77,
     "metadata": {},
     "output_type": "execute_result"
    }
   ],
   "source": [
    "\"\"\"\n",
    "# Spot Check Algorithms\n",
    "models = []\n",
    "models.append(('LR', LogisticRegression(solver='liblinear', multi_class='ovr')))\n",
    "models.append(('LDA', LinearDiscriminantAnalysis()))\n",
    "models.append(('KNN', KNeighborsClassifier()))\n",
    "models.append(('CART', DecisionTreeClassifier()))\n",
    "models.append(('NB', GaussianNB()))\n",
    "models.append(('SVM', SVC(gamma='auto')))\n",
    "# evaluate each model in turn\n",
    "results = []\n",
    "names = []\n",
    "for name, model in models:\n",
    "\tkfold = StratifiedKFold(n_splits=10, random_state=1, shuffle=True)\n",
    "\tcv_results = cross_val_score(model, X_train, Y_train, cv=kfold, scoring='accuracy')\n",
    "\tresults.append(cv_results)\n",
    "\tnames.append(name)\n",
    "\tprint('%s: %f (%f)' % (name, cv_results.mean(), cv_results.std()))\n",
    "\"\"\"    "
   ]
  },
  {
   "cell_type": "code",
   "execution_count": 78,
   "metadata": {},
   "outputs": [],
   "source": [
    "from sklearn import metrics\n",
    "from sklearn.metrics import plot_confusion_matrix\n",
    "from sklearn.metrics import confusion_matrix\n",
    "from sklearn.model_selection import train_test_split\n",
    "from sklearn.metrics import classification_report, confusion_matrix, accuracy_score\n",
    "from sklearn.metrics import f1_score\n",
    "import sklearn.model_selection as model_selection"
   ]
  },
  {
   "cell_type": "code",
   "execution_count": null,
   "metadata": {},
   "outputs": [],
   "source": []
  },
  {
   "cell_type": "code",
   "execution_count": null,
   "metadata": {},
   "outputs": [],
   "source": []
  },
  {
   "cell_type": "code",
   "execution_count": 79,
   "metadata": {},
   "outputs": [],
   "source": [
    "from sklearn import svm, datasets"
   ]
  },
  {
   "cell_type": "code",
   "execution_count": 80,
   "metadata": {},
   "outputs": [],
   "source": [
    "def svm_classifier_poly(x_train ,  x_test , y_train , y_test):\n",
    "    svm_poly = svm.SVC(kernel = 'poly' , degree =3 , C = 2).fit(x_train , y_train)\n",
    "    poly_pred = svm_poly.predict(x_test)\n",
    "    poly_accuracy = accuracy_score(y_test , poly_pred)\n",
    "    poly_f1 = f1_score(y_test , poly_pred , average = 'weighted')\n",
    "    print('Accuracy (Polynomial Kernel): ', \"%.2f\" % (poly_accuracy*100))\n",
    "    #print('Precision Score (Polynomial Kernel): ' + str(metrics.precision_score(y_test,poly_pred)*100))\n",
    "    #print('Recall Score (Polynomial Kernel): ' + str(metrics.recall_score(y_test,poly_pred)*100))\n",
    "    #print('F1 (Polynomial Kernel): ', \"%.2f\" % (poly_f1*100))\n",
    "    #print('Confusion Matrix:(Polynomial Kernel) \\n' + str(metrics.confusion_matrix(y_test,poly_pred)))\n",
    "    return poly_pred"
   ]
  },
  {
   "cell_type": "code",
   "execution_count": 81,
   "metadata": {},
   "outputs": [
    {
     "name": "stdout",
     "output_type": "stream",
     "text": [
      "Accuracy (Polynomial Kernel):  5.08\n"
     ]
    },
    {
     "data": {
      "text/plain": [
       "array(['Strong Severity', 'Mild Severity', 'Mild Severity',\n",
       "       'Strong Severity', 'Mild Severity', 'Strong Severity',\n",
       "       'Strong Severity', 'Mild Severity', 'Mild Severity',\n",
       "       'Strong Severity', 'Moderate Severity', 'Moderate Severity',\n",
       "       'Moderate Severity', 'Moderate Severity', 'Strong Severity',\n",
       "       'Mild Severity', 'Mild Severity', 'Mild Severity',\n",
       "       'Strong Severity', 'Mild Severity', 'No Severity',\n",
       "       'Strong Severity', 'Mild Severity', 'Moderate Severity',\n",
       "       'Strong Severity', 'No Severity', 'Strong Severity',\n",
       "       'Mild Severity', 'Moderate Severity', 'Mild Severity',\n",
       "       'Strong Severity', 'Mild Severity', 'No Severity', 'Mild Severity',\n",
       "       'Moderate Severity', 'No Severity', 'Strong Severity',\n",
       "       'Strong Severity', 'Strong Severity', 'Strong Severity',\n",
       "       'Strong Severity', 'Strong Severity', 'Strong Severity',\n",
       "       'Moderate Severity', 'Moderate Severity', 'No Severity',\n",
       "       'Moderate Severity', 'No Severity', 'Moderate Severity',\n",
       "       'Strong Severity', 'Moderate Severity', 'Moderate Severity',\n",
       "       'Mild Severity', 'Moderate Severity', 'No Severity',\n",
       "       'Strong Severity', 'Mild Severity', 'Strong Severity',\n",
       "       'Moderate Severity'], dtype=object)"
      ]
     },
     "execution_count": 81,
     "metadata": {},
     "output_type": "execute_result"
    }
   ],
   "source": [
    "from sklearn.model_selection import train_test_split\n",
    "x_train , x_test , y_train , y_test = train_test_split( X , y , test_size = 0.2 , random_state = 100) \n",
    "svm_classifier_poly(x_train , x_test , y_train , y_test)"
   ]
  },
  {
   "cell_type": "code",
   "execution_count": 82,
   "metadata": {},
   "outputs": [
    {
     "name": "stdout",
     "output_type": "stream",
     "text": [
      "Accuracy (Random Forest):  5.08\n"
     ]
    }
   ],
   "source": [
    "from sklearn.ensemble import RandomForestClassifier\n",
    "clf1 = RandomForestClassifier(n_estimators = 10000)\n",
    "clf=clf1.fit(x_train , y_train)\n",
    "y_predict = clf.predict(x_test)\n",
    "accuracy = accuracy_score(y_test , y_predict)\n",
    "#f1 = f1_score(y_test ,y_predict )\n",
    "print('Accuracy (Random Forest): ', \"%.2f\" % (accuracy*100))\n",
    "#print('Precision Score (Random Forest): ' + str(metrics.precision_score(y_test,y_predict)*100))\n",
    "#print('Recall Score (Random Forest): ' + str(metrics.recall_score(y_test,y_predict)*100))\n",
    "#print('F1 (Random Forest): ', \"%.2f\" % (f1*100))\n",
    "#print('Confusion Matrix:(Random Forest) \\n' + str(metrics.confusion_matrix(y_test,y_predict)))\n",
    "#y_predict"
   ]
  },
  {
   "cell_type": "code",
   "execution_count": 83,
   "metadata": {},
   "outputs": [],
   "source": [
    "# Make predictions on validation dataset\n",
    "model = SVC(gamma='scale')  #auto\n",
    "model.fit(x_train, y_train)\n",
    "predictions = model.predict(x_test)"
   ]
  },
  {
   "cell_type": "code",
   "execution_count": 84,
   "metadata": {},
   "outputs": [
    {
     "name": "stdout",
     "output_type": "stream",
     "text": [
      "0.05084745762711865\n",
      "[[1 6 2 4]\n",
      " [5 0 2 6]\n",
      " [5 5 1 7]\n",
      " [6 8 0 1]]\n",
      "                   precision    recall  f1-score   support\n",
      "\n",
      "    Mild Severity       0.06      0.08      0.07        13\n",
      "Moderate Severity       0.00      0.00      0.00        13\n",
      "      No Severity       0.20      0.06      0.09        18\n",
      "  Strong Severity       0.06      0.07      0.06        15\n",
      "\n",
      "         accuracy                           0.05        59\n",
      "        macro avg       0.08      0.05      0.05        59\n",
      "     weighted avg       0.09      0.05      0.06        59\n",
      "\n"
     ]
    }
   ],
   "source": [
    "print(accuracy_score(y_test, y_predict))\n",
    "print(confusion_matrix(y_test, y_predict))\n",
    "print(classification_report(y_test, y_predict))"
   ]
  },
  {
   "cell_type": "code",
   "execution_count": null,
   "metadata": {},
   "outputs": [],
   "source": []
  },
  {
   "cell_type": "code",
   "execution_count": null,
   "metadata": {},
   "outputs": [],
   "source": []
  },
  {
   "cell_type": "markdown",
   "metadata": {},
   "source": [
    "# EXPORT MODEL"
   ]
  },
  {
   "cell_type": "code",
   "execution_count": 85,
   "metadata": {},
   "outputs": [
    {
     "data": {
      "text/plain": [
       "['covid19_prediction_model.ml']"
      ]
     },
     "execution_count": 85,
     "metadata": {},
     "output_type": "execute_result"
    }
   ],
   "source": [
    "import joblib\n",
    "joblib.dump(model,'covid19_prediction_model.ml')"
   ]
  },
  {
   "cell_type": "code",
   "execution_count": 89,
   "metadata": {},
   "outputs": [
    {
     "ename": "ValueError",
     "evalue": "could not convert string to float: 'yes'",
     "output_type": "error",
     "traceback": [
      "\u001b[1;31m---------------------------------------------------------------------------\u001b[0m",
      "\u001b[1;31mValueError\u001b[0m                                Traceback (most recent call last)",
      "\u001b[1;32m<ipython-input-89-77d869370440>\u001b[0m in \u001b[0;36m<module>\u001b[1;34m\u001b[0m\n\u001b[1;32m----> 1\u001b[1;33m \u001b[0mmodel\u001b[0m\u001b[1;33m.\u001b[0m\u001b[0mpredict\u001b[0m\u001b[1;33m(\u001b[0m\u001b[1;33m[\u001b[0m\u001b[1;33m[\u001b[0m\u001b[1;34m'yes'\u001b[0m\u001b[1;33m,\u001b[0m\u001b[1;34m'yes'\u001b[0m\u001b[1;33m,\u001b[0m\u001b[1;34m'yes'\u001b[0m\u001b[1;33m,\u001b[0m\u001b[1;34m'yes'\u001b[0m\u001b[1;33m,\u001b[0m\u001b[1;34m'yes'\u001b[0m\u001b[1;33m,\u001b[0m\u001b[1;34m'yes'\u001b[0m\u001b[1;33m,\u001b[0m\u001b[1;34m'yes'\u001b[0m\u001b[1;33m,\u001b[0m\u001b[1;34m'yes'\u001b[0m\u001b[1;33m,\u001b[0m\u001b[1;34m'yes'\u001b[0m\u001b[1;33m,\u001b[0m\u001b[1;34m'no'\u001b[0m\u001b[1;33m,\u001b[0m\u001b[1;34m'no'\u001b[0m\u001b[1;33m,\u001b[0m\u001b[1;34m'no'\u001b[0m\u001b[1;33m,\u001b[0m\u001b[1;34m'yes'\u001b[0m\u001b[1;33m,\u001b[0m\u001b[1;34m'no'\u001b[0m\u001b[1;33m,\u001b[0m\u001b[1;34m'no'\u001b[0m\u001b[1;33m,\u001b[0m\u001b[1;34m'no'\u001b[0m\u001b[1;33m,\u001b[0m\u001b[1;34m'yes'\u001b[0m\u001b[1;33m,\u001b[0m\u001b[1;34m'no'\u001b[0m\u001b[1;33m,\u001b[0m\u001b[1;34m'no'\u001b[0m\u001b[1;33m,\u001b[0m\u001b[1;34m'yes'\u001b[0m\u001b[1;33m,\u001b[0m\u001b[1;34m'no'\u001b[0m\u001b[1;33m,\u001b[0m\u001b[1;34m'no'\u001b[0m\u001b[1;33m]\u001b[0m\u001b[1;33m]\u001b[0m\u001b[1;33m)\u001b[0m\u001b[1;33m\u001b[0m\u001b[1;33m\u001b[0m\u001b[0m\n\u001b[0m",
      "\u001b[1;32mC:\\ProgramData\\Anaconda3\\lib\\site-packages\\sklearn\\svm\\_base.py\u001b[0m in \u001b[0;36mpredict\u001b[1;34m(self, X)\u001b[0m\n\u001b[0;32m    613\u001b[0m             \u001b[0my\u001b[0m \u001b[1;33m=\u001b[0m \u001b[0mnp\u001b[0m\u001b[1;33m.\u001b[0m\u001b[0margmax\u001b[0m\u001b[1;33m(\u001b[0m\u001b[0mself\u001b[0m\u001b[1;33m.\u001b[0m\u001b[0mdecision_function\u001b[0m\u001b[1;33m(\u001b[0m\u001b[0mX\u001b[0m\u001b[1;33m)\u001b[0m\u001b[1;33m,\u001b[0m \u001b[0maxis\u001b[0m\u001b[1;33m=\u001b[0m\u001b[1;36m1\u001b[0m\u001b[1;33m)\u001b[0m\u001b[1;33m\u001b[0m\u001b[1;33m\u001b[0m\u001b[0m\n\u001b[0;32m    614\u001b[0m         \u001b[1;32melse\u001b[0m\u001b[1;33m:\u001b[0m\u001b[1;33m\u001b[0m\u001b[1;33m\u001b[0m\u001b[0m\n\u001b[1;32m--> 615\u001b[1;33m             \u001b[0my\u001b[0m \u001b[1;33m=\u001b[0m \u001b[0msuper\u001b[0m\u001b[1;33m(\u001b[0m\u001b[1;33m)\u001b[0m\u001b[1;33m.\u001b[0m\u001b[0mpredict\u001b[0m\u001b[1;33m(\u001b[0m\u001b[0mX\u001b[0m\u001b[1;33m)\u001b[0m\u001b[1;33m\u001b[0m\u001b[1;33m\u001b[0m\u001b[0m\n\u001b[0m\u001b[0;32m    616\u001b[0m         \u001b[1;32mreturn\u001b[0m \u001b[0mself\u001b[0m\u001b[1;33m.\u001b[0m\u001b[0mclasses_\u001b[0m\u001b[1;33m.\u001b[0m\u001b[0mtake\u001b[0m\u001b[1;33m(\u001b[0m\u001b[0mnp\u001b[0m\u001b[1;33m.\u001b[0m\u001b[0masarray\u001b[0m\u001b[1;33m(\u001b[0m\u001b[0my\u001b[0m\u001b[1;33m,\u001b[0m \u001b[0mdtype\u001b[0m\u001b[1;33m=\u001b[0m\u001b[0mnp\u001b[0m\u001b[1;33m.\u001b[0m\u001b[0mintp\u001b[0m\u001b[1;33m)\u001b[0m\u001b[1;33m)\u001b[0m\u001b[1;33m\u001b[0m\u001b[1;33m\u001b[0m\u001b[0m\n\u001b[0;32m    617\u001b[0m \u001b[1;33m\u001b[0m\u001b[0m\n",
      "\u001b[1;32mC:\\ProgramData\\Anaconda3\\lib\\site-packages\\sklearn\\svm\\_base.py\u001b[0m in \u001b[0;36mpredict\u001b[1;34m(self, X)\u001b[0m\n\u001b[0;32m    331\u001b[0m         \u001b[0my_pred\u001b[0m \u001b[1;33m:\u001b[0m \u001b[0mndarray\u001b[0m \u001b[0mof\u001b[0m \u001b[0mshape\u001b[0m \u001b[1;33m(\u001b[0m\u001b[0mn_samples\u001b[0m\u001b[1;33m,\u001b[0m\u001b[1;33m)\u001b[0m\u001b[1;33m\u001b[0m\u001b[1;33m\u001b[0m\u001b[0m\n\u001b[0;32m    332\u001b[0m         \"\"\"\n\u001b[1;32m--> 333\u001b[1;33m         \u001b[0mX\u001b[0m \u001b[1;33m=\u001b[0m \u001b[0mself\u001b[0m\u001b[1;33m.\u001b[0m\u001b[0m_validate_for_predict\u001b[0m\u001b[1;33m(\u001b[0m\u001b[0mX\u001b[0m\u001b[1;33m)\u001b[0m\u001b[1;33m\u001b[0m\u001b[1;33m\u001b[0m\u001b[0m\n\u001b[0m\u001b[0;32m    334\u001b[0m         \u001b[0mpredict\u001b[0m \u001b[1;33m=\u001b[0m \u001b[0mself\u001b[0m\u001b[1;33m.\u001b[0m\u001b[0m_sparse_predict\u001b[0m \u001b[1;32mif\u001b[0m \u001b[0mself\u001b[0m\u001b[1;33m.\u001b[0m\u001b[0m_sparse\u001b[0m \u001b[1;32melse\u001b[0m \u001b[0mself\u001b[0m\u001b[1;33m.\u001b[0m\u001b[0m_dense_predict\u001b[0m\u001b[1;33m\u001b[0m\u001b[1;33m\u001b[0m\u001b[0m\n\u001b[0;32m    335\u001b[0m         \u001b[1;32mreturn\u001b[0m \u001b[0mpredict\u001b[0m\u001b[1;33m(\u001b[0m\u001b[0mX\u001b[0m\u001b[1;33m)\u001b[0m\u001b[1;33m\u001b[0m\u001b[1;33m\u001b[0m\u001b[0m\n",
      "\u001b[1;32mC:\\ProgramData\\Anaconda3\\lib\\site-packages\\sklearn\\svm\\_base.py\u001b[0m in \u001b[0;36m_validate_for_predict\u001b[1;34m(self, X)\u001b[0m\n\u001b[0;32m    463\u001b[0m \u001b[1;33m\u001b[0m\u001b[0m\n\u001b[0;32m    464\u001b[0m         \u001b[1;32mif\u001b[0m \u001b[1;32mnot\u001b[0m \u001b[0mcallable\u001b[0m\u001b[1;33m(\u001b[0m\u001b[0mself\u001b[0m\u001b[1;33m.\u001b[0m\u001b[0mkernel\u001b[0m\u001b[1;33m)\u001b[0m\u001b[1;33m:\u001b[0m\u001b[1;33m\u001b[0m\u001b[1;33m\u001b[0m\u001b[0m\n\u001b[1;32m--> 465\u001b[1;33m             X = check_array(X, accept_sparse='csr', dtype=np.float64,\n\u001b[0m\u001b[0;32m    466\u001b[0m                             order=\"C\", accept_large_sparse=False)\n\u001b[0;32m    467\u001b[0m \u001b[1;33m\u001b[0m\u001b[0m\n",
      "\u001b[1;32mC:\\ProgramData\\Anaconda3\\lib\\site-packages\\sklearn\\utils\\validation.py\u001b[0m in \u001b[0;36minner_f\u001b[1;34m(*args, **kwargs)\u001b[0m\n\u001b[0;32m     71\u001b[0m                           FutureWarning)\n\u001b[0;32m     72\u001b[0m         \u001b[0mkwargs\u001b[0m\u001b[1;33m.\u001b[0m\u001b[0mupdate\u001b[0m\u001b[1;33m(\u001b[0m\u001b[1;33m{\u001b[0m\u001b[0mk\u001b[0m\u001b[1;33m:\u001b[0m \u001b[0marg\u001b[0m \u001b[1;32mfor\u001b[0m \u001b[0mk\u001b[0m\u001b[1;33m,\u001b[0m \u001b[0marg\u001b[0m \u001b[1;32min\u001b[0m \u001b[0mzip\u001b[0m\u001b[1;33m(\u001b[0m\u001b[0msig\u001b[0m\u001b[1;33m.\u001b[0m\u001b[0mparameters\u001b[0m\u001b[1;33m,\u001b[0m \u001b[0margs\u001b[0m\u001b[1;33m)\u001b[0m\u001b[1;33m}\u001b[0m\u001b[1;33m)\u001b[0m\u001b[1;33m\u001b[0m\u001b[1;33m\u001b[0m\u001b[0m\n\u001b[1;32m---> 73\u001b[1;33m         \u001b[1;32mreturn\u001b[0m \u001b[0mf\u001b[0m\u001b[1;33m(\u001b[0m\u001b[1;33m**\u001b[0m\u001b[0mkwargs\u001b[0m\u001b[1;33m)\u001b[0m\u001b[1;33m\u001b[0m\u001b[1;33m\u001b[0m\u001b[0m\n\u001b[0m\u001b[0;32m     74\u001b[0m     \u001b[1;32mreturn\u001b[0m \u001b[0minner_f\u001b[0m\u001b[1;33m\u001b[0m\u001b[1;33m\u001b[0m\u001b[0m\n\u001b[0;32m     75\u001b[0m \u001b[1;33m\u001b[0m\u001b[0m\n",
      "\u001b[1;32mC:\\ProgramData\\Anaconda3\\lib\\site-packages\\sklearn\\utils\\validation.py\u001b[0m in \u001b[0;36mcheck_array\u001b[1;34m(array, accept_sparse, accept_large_sparse, dtype, order, copy, force_all_finite, ensure_2d, allow_nd, ensure_min_samples, ensure_min_features, estimator)\u001b[0m\n\u001b[0;32m    597\u001b[0m                     \u001b[0marray\u001b[0m \u001b[1;33m=\u001b[0m \u001b[0marray\u001b[0m\u001b[1;33m.\u001b[0m\u001b[0mastype\u001b[0m\u001b[1;33m(\u001b[0m\u001b[0mdtype\u001b[0m\u001b[1;33m,\u001b[0m \u001b[0mcasting\u001b[0m\u001b[1;33m=\u001b[0m\u001b[1;34m\"unsafe\"\u001b[0m\u001b[1;33m,\u001b[0m \u001b[0mcopy\u001b[0m\u001b[1;33m=\u001b[0m\u001b[1;32mFalse\u001b[0m\u001b[1;33m)\u001b[0m\u001b[1;33m\u001b[0m\u001b[1;33m\u001b[0m\u001b[0m\n\u001b[0;32m    598\u001b[0m                 \u001b[1;32melse\u001b[0m\u001b[1;33m:\u001b[0m\u001b[1;33m\u001b[0m\u001b[1;33m\u001b[0m\u001b[0m\n\u001b[1;32m--> 599\u001b[1;33m                     \u001b[0marray\u001b[0m \u001b[1;33m=\u001b[0m \u001b[0mnp\u001b[0m\u001b[1;33m.\u001b[0m\u001b[0masarray\u001b[0m\u001b[1;33m(\u001b[0m\u001b[0marray\u001b[0m\u001b[1;33m,\u001b[0m \u001b[0morder\u001b[0m\u001b[1;33m=\u001b[0m\u001b[0morder\u001b[0m\u001b[1;33m,\u001b[0m \u001b[0mdtype\u001b[0m\u001b[1;33m=\u001b[0m\u001b[0mdtype\u001b[0m\u001b[1;33m)\u001b[0m\u001b[1;33m\u001b[0m\u001b[1;33m\u001b[0m\u001b[0m\n\u001b[0m\u001b[0;32m    600\u001b[0m             \u001b[1;32mexcept\u001b[0m \u001b[0mComplexWarning\u001b[0m\u001b[1;33m:\u001b[0m\u001b[1;33m\u001b[0m\u001b[1;33m\u001b[0m\u001b[0m\n\u001b[0;32m    601\u001b[0m                 raise ValueError(\"Complex data not supported\\n\"\n",
      "\u001b[1;32mC:\\ProgramData\\Anaconda3\\lib\\site-packages\\numpy\\core\\_asarray.py\u001b[0m in \u001b[0;36masarray\u001b[1;34m(a, dtype, order)\u001b[0m\n\u001b[0;32m     83\u001b[0m \u001b[1;33m\u001b[0m\u001b[0m\n\u001b[0;32m     84\u001b[0m     \"\"\"\n\u001b[1;32m---> 85\u001b[1;33m     \u001b[1;32mreturn\u001b[0m \u001b[0marray\u001b[0m\u001b[1;33m(\u001b[0m\u001b[0ma\u001b[0m\u001b[1;33m,\u001b[0m \u001b[0mdtype\u001b[0m\u001b[1;33m,\u001b[0m \u001b[0mcopy\u001b[0m\u001b[1;33m=\u001b[0m\u001b[1;32mFalse\u001b[0m\u001b[1;33m,\u001b[0m \u001b[0morder\u001b[0m\u001b[1;33m=\u001b[0m\u001b[0morder\u001b[0m\u001b[1;33m)\u001b[0m\u001b[1;33m\u001b[0m\u001b[1;33m\u001b[0m\u001b[0m\n\u001b[0m\u001b[0;32m     86\u001b[0m \u001b[1;33m\u001b[0m\u001b[0m\n\u001b[0;32m     87\u001b[0m \u001b[1;33m\u001b[0m\u001b[0m\n",
      "\u001b[1;31mValueError\u001b[0m: could not convert string to float: 'yes'"
     ]
    }
   ],
   "source": [
    "\n",
    "model.predict([['yes','yes','yes','yes','yes','yes','yes','yes','yes','no','no','no','yes','no','no','no','yes','no','no','yes','no','no']])"
   ]
  },
  {
   "cell_type": "code",
   "execution_count": null,
   "metadata": {},
   "outputs": [],
   "source": [
    "\n",
    "model.predict([[1,1,0,1,1,1,1,1,1,0,0,0,1,0,0,0,1,0,0,1,0,0]])"
   ]
  },
  {
   "cell_type": "code",
   "execution_count": null,
   "metadata": {},
   "outputs": [],
   "source": []
  }
 ],
 "metadata": {
  "kernelspec": {
   "display_name": "Python 3",
   "language": "python",
   "name": "python3"
  },
  "language_info": {
   "codemirror_mode": {
    "name": "ipython",
    "version": 3
   },
   "file_extension": ".py",
   "mimetype": "text/x-python",
   "name": "python",
   "nbconvert_exporter": "python",
   "pygments_lexer": "ipython3",
   "version": "3.8.3"
  }
 },
 "nbformat": 4,
 "nbformat_minor": 4
}
